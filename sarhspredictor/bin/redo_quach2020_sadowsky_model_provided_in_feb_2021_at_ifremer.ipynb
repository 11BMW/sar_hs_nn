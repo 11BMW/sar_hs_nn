{
 "cells": [
  {
   "cell_type": "code",
   "execution_count": 1,
   "metadata": {},
   "outputs": [
    {
     "data": {
      "text/plain": [
       "'\\nUn des enjeu sur le DeepLearning et en particulier le Hs NN du WV est d etre capable\\nde refaire le meme model heteroskedastic_2017.h5 que celui fourni par Sadowski en feb 2021)\\nJe vais utilier les mêmes libs et le meme training dataset\\nA Grouazel\\nApril 2021\\n'"
      ]
     },
     "execution_count": 1,
     "metadata": {},
     "output_type": "execute_result"
    }
   ],
   "source": [
    "\"\"\"\n",
    "Un des enjeu sur le DeepLearning et en particulier le Hs NN du WV est d etre capable\n",
    "de refaire le meme model heteroskedastic_2017.h5 que celui fourni par Sadowski en feb 2021)\n",
    "Je vais utilier les mêmes libs et le meme training dataset\n",
    "A Grouazel\n",
    "April 2021\n",
    "based on the ntebook https://github.com/hawaii-ai/SAR-Wave-Height/blob/master/notebooks/train_model_heteroskedastic.ipynb\n",
    "\"\"\""
   ]
  },
  {
   "cell_type": "code",
   "execution_count": 1,
   "metadata": {},
   "outputs": [],
   "source": [
    "# Train neural network to predict significant wave height from SAR spectra.\n",
    "# Train with heteroskedastic regression uncertainty estimates.\n",
    "# Author: Peter Sadowski, Dec 2020\n",
    "import os, sys\n",
    "os.environ['TF_FORCE_GPU_ALLOW_GROWTH'] = 'true' # Needed to avoid cudnn bug.\n",
    "import numpy as np\n",
    "import h5py\n",
    "\n",
    "import tensorflow as tf\n",
    "from tensorflow.keras.utils import Sequence, plot_model\n",
    "from tensorflow.keras.callbacks import *\n",
    "from tensorflow.keras.optimizers import Adam\n",
    "from tensorflow.keras.layers import *\n",
    "from tensorflow.keras.models import Model\n",
    "\n",
    "#sys.path = ['../'] + sys.path\n",
    "sys.path.append('/home1/datahome/agrouaze/git/sar_hs_nn/')\n",
    "from sarhspredictor.lib.sarhs.generator import SARGenerator\n",
    "from sarhspredictor.lib.sarhs.heteroskedastic import Gaussian_NLL, Gaussian_MSE"
   ]
  },
  {
   "cell_type": "markdown",
   "metadata": {},
   "source": [
    "# model definition"
   ]
  },
  {
   "cell_type": "code",
   "execution_count": 2,
   "metadata": {},
   "outputs": [],
   "source": [
    "def define_model():\n",
    "    # Low-level features.\n",
    "    inputs = Input(shape=(72, 60, 2))\n",
    "    x = Conv2D(64, (3, 3), activation='relu')(inputs)\n",
    "    x = MaxPooling2D(pool_size=(2, 2))(x)\n",
    "\n",
    "    x = Conv2D(128, (3, 3), activation='relu')(x)\n",
    "    x = MaxPooling2D(pool_size=(2, 2))(x)\n",
    "\n",
    "    x = Conv2D(256, (3, 3), activation='relu')(x)\n",
    "    x = MaxPooling2D(pool_size=(2, 2))(x)\n",
    "\n",
    "    x = GlobalMaxPooling2D()(x)\n",
    "    x = Dense(256, activation='relu')(x)\n",
    "    #x = Dropout(0.5)(x)\n",
    "    x = Dense(256, activation='relu')(x)\n",
    "    x = Dropout(0.5)(x)\n",
    "    cnn = Model(inputs, x)\n",
    "\n",
    "    # High-level features.\n",
    "    inp = Input(shape=(32, ))  # 'hsSM', 'hsWW3v2', 'hsALT', 'altID', 'target' -> dropped\n",
    "    x = Dense(units=256, activation='relu')(inp)\n",
    "    x = Dense(units=256, activation='relu')(x)\n",
    "    x = Dense(units=256, activation='relu')(x)\n",
    "    x = Dense(units=256, activation='relu')(x)\n",
    "    x = Dense(units=256, activation='relu')(x)\n",
    "    x = Dense(units=256, activation='relu')(x)\n",
    "    x = Dense(units=256, activation='relu')(x)\n",
    "    x = Dense(units=256, activation='relu')(x)\n",
    "    x = Dense(units=256, activation='relu')(x)\n",
    "    #x = Dropout(0.5)(x)\n",
    "    x = Dense(units=256, activation='relu')(x)\n",
    "    #x = Dropout(0.5)(x)\n",
    "    x = Dense(units=256, activation='relu')(x)\n",
    "    x = Dropout(0.5)(x)\n",
    "    ann = Model(inputs=inp, outputs=x)\n",
    "    \n",
    "    # Combine\n",
    "    combinedInput = concatenate([cnn.output, ann.output])\n",
    "    x = Dense(256, activation=\"relu\")(combinedInput)\n",
    "    x = Dropout(0.5)(x)\n",
    "    x = Dense(256, activation=\"relu\", name='penultimate')(x)  \n",
    "    x = Dropout(0.5)(x)\n",
    "    x = Dense(2, activation=\"softplus\", name='output')(x)\n",
    "    model = Model(inputs=[cnn.input, ann.input], outputs=x)\n",
    "    return model"
   ]
  },
  {
   "cell_type": "code",
   "execution_count": 3,
   "metadata": {},
   "outputs": [
    {
     "name": "stdout",
     "output_type": "stream",
     "text": [
      "Model: \"model_2\"\n",
      "__________________________________________________________________________________________________\n",
      "Layer (type)                    Output Shape         Param #     Connected to                     \n",
      "==================================================================================================\n",
      "input_2 (InputLayer)            [(None, 32)]         0                                            \n",
      "__________________________________________________________________________________________________\n",
      "dense_2 (Dense)                 (None, 256)          8448        input_2[0][0]                    \n",
      "__________________________________________________________________________________________________\n",
      "input_1 (InputLayer)            [(None, 72, 60, 2)]  0                                            \n",
      "__________________________________________________________________________________________________\n",
      "dense_3 (Dense)                 (None, 256)          65792       dense_2[0][0]                    \n",
      "__________________________________________________________________________________________________\n",
      "conv2d (Conv2D)                 (None, 70, 58, 64)   1216        input_1[0][0]                    \n",
      "__________________________________________________________________________________________________\n",
      "dense_4 (Dense)                 (None, 256)          65792       dense_3[0][0]                    \n",
      "__________________________________________________________________________________________________\n",
      "max_pooling2d (MaxPooling2D)    (None, 35, 29, 64)   0           conv2d[0][0]                     \n",
      "__________________________________________________________________________________________________\n",
      "dense_5 (Dense)                 (None, 256)          65792       dense_4[0][0]                    \n",
      "__________________________________________________________________________________________________\n",
      "conv2d_1 (Conv2D)               (None, 33, 27, 128)  73856       max_pooling2d[0][0]              \n",
      "__________________________________________________________________________________________________\n",
      "dense_6 (Dense)                 (None, 256)          65792       dense_5[0][0]                    \n",
      "__________________________________________________________________________________________________\n",
      "max_pooling2d_1 (MaxPooling2D)  (None, 16, 13, 128)  0           conv2d_1[0][0]                   \n",
      "__________________________________________________________________________________________________\n",
      "dense_7 (Dense)                 (None, 256)          65792       dense_6[0][0]                    \n",
      "__________________________________________________________________________________________________\n",
      "conv2d_2 (Conv2D)               (None, 14, 11, 256)  295168      max_pooling2d_1[0][0]            \n",
      "__________________________________________________________________________________________________\n",
      "dense_8 (Dense)                 (None, 256)          65792       dense_7[0][0]                    \n",
      "__________________________________________________________________________________________________\n",
      "max_pooling2d_2 (MaxPooling2D)  (None, 7, 5, 256)    0           conv2d_2[0][0]                   \n",
      "__________________________________________________________________________________________________\n",
      "dense_9 (Dense)                 (None, 256)          65792       dense_8[0][0]                    \n",
      "__________________________________________________________________________________________________\n",
      "global_max_pooling2d (GlobalMax (None, 256)          0           max_pooling2d_2[0][0]            \n",
      "__________________________________________________________________________________________________\n",
      "dense_10 (Dense)                (None, 256)          65792       dense_9[0][0]                    \n",
      "__________________________________________________________________________________________________\n",
      "dense (Dense)                   (None, 256)          65792       global_max_pooling2d[0][0]       \n",
      "__________________________________________________________________________________________________\n",
      "dense_11 (Dense)                (None, 256)          65792       dense_10[0][0]                   \n",
      "__________________________________________________________________________________________________\n",
      "dense_1 (Dense)                 (None, 256)          65792       dense[0][0]                      \n",
      "__________________________________________________________________________________________________\n",
      "dense_12 (Dense)                (None, 256)          65792       dense_11[0][0]                   \n",
      "__________________________________________________________________________________________________\n",
      "dropout (Dropout)               (None, 256)          0           dense_1[0][0]                    \n",
      "__________________________________________________________________________________________________\n",
      "dropout_1 (Dropout)             (None, 256)          0           dense_12[0][0]                   \n",
      "__________________________________________________________________________________________________\n",
      "concatenate (Concatenate)       (None, 512)          0           dropout[0][0]                    \n",
      "                                                                 dropout_1[0][0]                  \n",
      "__________________________________________________________________________________________________\n",
      "dense_13 (Dense)                (None, 256)          131328      concatenate[0][0]                \n",
      "__________________________________________________________________________________________________\n",
      "dropout_2 (Dropout)             (None, 256)          0           dense_13[0][0]                   \n",
      "__________________________________________________________________________________________________\n",
      "penultimate (Dense)             (None, 256)          65792       dropout_2[0][0]                  \n",
      "__________________________________________________________________________________________________\n",
      "dropout_3 (Dropout)             (None, 256)          0           penultimate[0][0]                \n",
      "__________________________________________________________________________________________________\n",
      "output (Dense)                  (None, 2)            514         dropout_3[0][0]                  \n",
      "==================================================================================================\n",
      "Total params: 1,365,826\n",
      "Trainable params: 1,365,826\n",
      "Non-trainable params: 0\n",
      "__________________________________________________________________________________________________\n",
      "None\n"
     ]
    }
   ],
   "source": [
    "momo = define_model()\n",
    "print(momo.summary())"
   ]
  },
  {
   "cell_type": "markdown",
   "metadata": {},
   "source": [
    "# cell added to get equivalent file sar_hs.h5\n",
    " inspired from https://github.com/hawaii-ai/SAR-Wave-Height/blob/master/scripts/create_dataset_from_nc.ipynb\n",
    " pas mal de petite modif sur le nom des variables et avec les variables deja assemblees\n",
    " \n",
    " dataflow:\n",
    " training dataset ALT_...nc -> ALT_...processed.nc -> aggregate.h5 -> split by groups .h5"
   ]
  },
  {
   "cell_type": "code",
   "execution_count": 4,
   "metadata": {},
   "outputs": [
    {
     "name": "stdout",
     "output_type": "stream",
     "text": [
      "nb input files to train for S1A : 42\n",
      "file_dest /home1/scratch/agrouaze/training_quach_redo_model/S1A_ALT_coloc201607S_processed.nc\n",
      "Found 11346 events.\n"
     ]
    },
    {
     "name": "stderr",
     "output_type": "stream",
     "text": [
      "/home1/datawork/agrouaze/conda_envs2/envs/pytorchtest/lib/python3.7/site-packages/numpy/core/fromnumeric.py:748: UserWarning: Warning: 'partition' will ignore the 'mask' of the MaskedArray.\n",
      "  a.partition(kth, axis=axis, kind=kind, order=order)\n",
      "/home1/datawork/agrouaze/conda_envs2/envs/pytorchtest/lib/python3.7/site-packages/ipykernel_launcher.py:98: UserWarning: WARNING: valid_min not used since it\n",
      "cannot be safely cast to variable data type\n",
      "/home1/datawork/agrouaze/conda_envs2/envs/pytorchtest/lib/python3.7/site-packages/ipykernel_launcher.py:98: UserWarning: WARNING: valid_max not used since it\n",
      "cannot be safely cast to variable data type\n"
     ]
    },
    {
     "name": "stdout",
     "output_type": "stream",
     "text": [
      "elapsed time to build /home1/scratch/agrouaze/training_quach_redo_model/S1A_ALT_coloc201607S_processed.nc: 12.527 seconds\n",
      "file_dest /home1/scratch/agrouaze/training_quach_redo_model/S1A_ALT_coloc201601S_processed.nc\n",
      "Found 9760 events.\n"
     ]
    },
    {
     "name": "stderr",
     "output_type": "stream",
     "text": [
      "/home1/datawork/agrouaze/conda_envs2/envs/pytorchtest/lib/python3.7/site-packages/ipykernel_launcher.py:95: UserWarning: WARNING: valid_min not used since it\n",
      "cannot be safely cast to variable data type\n"
     ]
    },
    {
     "name": "stdout",
     "output_type": "stream",
     "text": [
      "elapsed time to build /home1/scratch/agrouaze/training_quach_redo_model/S1A_ALT_coloc201601S_processed.nc: 10.456 seconds\n",
      "file_dest /home1/scratch/agrouaze/training_quach_redo_model/S1A_ALT_coloc201705S_processed.nc\n",
      "Found 139 events.\n"
     ]
    },
    {
     "name": "stderr",
     "output_type": "stream",
     "text": [
      "/home1/datawork/agrouaze/conda_envs2/envs/pytorchtest/lib/python3.7/site-packages/ipykernel_launcher.py:95: UserWarning: WARNING: valid_max not used since it\n",
      "cannot be safely cast to variable data type\n"
     ]
    },
    {
     "name": "stdout",
     "output_type": "stream",
     "text": [
      "elapsed time to build /home1/scratch/agrouaze/training_quach_redo_model/S1A_ALT_coloc201705S_processed.nc: 0.663 seconds\n",
      "file_dest /home1/scratch/agrouaze/training_quach_redo_model/S1A_ALT_coloc201602S_processed.nc\n",
      "Found 12874 events.\n",
      "elapsed time to build /home1/scratch/agrouaze/training_quach_redo_model/S1A_ALT_coloc201602S_processed.nc: 13.664 seconds\n",
      "file_dest /home1/scratch/agrouaze/training_quach_redo_model/S1A_ALT_coloc201707S_processed.nc\n",
      "Found 18632 events.\n",
      "elapsed time to build /home1/scratch/agrouaze/training_quach_redo_model/S1A_ALT_coloc201707S_processed.nc: 20.422 seconds\n",
      "file_dest /home1/scratch/agrouaze/training_quach_redo_model/S1A_ALT_coloc201506S_processed.nc\n",
      "Found 5565 events.\n",
      "elapsed time to build /home1/scratch/agrouaze/training_quach_redo_model/S1A_ALT_coloc201506S_processed.nc: 6.063 seconds\n",
      "file_dest /home1/scratch/agrouaze/training_quach_redo_model/S1A_ALT_coloc201610S_processed.nc\n",
      "Found 15740 events.\n",
      "elapsed time to build /home1/scratch/agrouaze/training_quach_redo_model/S1A_ALT_coloc201610S_processed.nc: 16.871 seconds\n",
      "file_dest /home1/scratch/agrouaze/training_quach_redo_model/S1A_ALT_coloc201605S_processed.nc\n",
      "Found 12882 events.\n",
      "elapsed time to build /home1/scratch/agrouaze/training_quach_redo_model/S1A_ALT_coloc201605S_processed.nc: 13.745 seconds\n",
      "file_dest /home1/scratch/agrouaze/training_quach_redo_model/S1A_ALT_coloc201706S_processed.nc\n",
      "Found 9288 events.\n",
      "elapsed time to build /home1/scratch/agrouaze/training_quach_redo_model/S1A_ALT_coloc201706S_processed.nc: 10.078 seconds\n",
      "file_dest /home1/scratch/agrouaze/training_quach_redo_model/S1A_ALT_coloc201611S_processed.nc\n",
      "Found 15970 events.\n",
      "elapsed time to build /home1/scratch/agrouaze/training_quach_redo_model/S1A_ALT_coloc201611S_processed.nc: 17.122 seconds\n",
      "file_dest /home1/scratch/agrouaze/training_quach_redo_model/S1A_ALT_coloc201503S_processed.nc\n",
      "Found 757 events.\n",
      "elapsed time to build /home1/scratch/agrouaze/training_quach_redo_model/S1A_ALT_coloc201503S_processed.nc: 1.131 seconds\n",
      "file_dest /home1/scratch/agrouaze/training_quach_redo_model/S1A_ALT_coloc201502S_processed.nc\n",
      "Found 1118 events.\n",
      "elapsed time to build /home1/scratch/agrouaze/training_quach_redo_model/S1A_ALT_coloc201502S_processed.nc: 1.447 seconds\n",
      "file_dest /home1/scratch/agrouaze/training_quach_redo_model/S1A_ALT_coloc201804S_processed.nc\n",
      "Found 13699 events.\n",
      "elapsed time to build /home1/scratch/agrouaze/training_quach_redo_model/S1A_ALT_coloc201804S_processed.nc: 14.295 seconds\n",
      "file_dest /home1/scratch/agrouaze/training_quach_redo_model/S1A_ALT_coloc201608S_processed.nc\n",
      "Found 15228 events.\n",
      "elapsed time to build /home1/scratch/agrouaze/training_quach_redo_model/S1A_ALT_coloc201608S_processed.nc: 16.337 seconds\n",
      "file_dest /home1/scratch/agrouaze/training_quach_redo_model/S1A_ALT_coloc201509S_processed.nc\n",
      "Found 7749 events.\n",
      "elapsed time to build /home1/scratch/agrouaze/training_quach_redo_model/S1A_ALT_coloc201509S_processed.nc: 8.539 seconds\n",
      "file_dest /home1/scratch/agrouaze/training_quach_redo_model/S1A_ALT_coloc201612S_processed.nc\n",
      "Found 18055 events.\n",
      "elapsed time to build /home1/scratch/agrouaze/training_quach_redo_model/S1A_ALT_coloc201612S_processed.nc: 19.385 seconds\n",
      "file_dest /home1/scratch/agrouaze/training_quach_redo_model/S1A_ALT_coloc201807S_processed.nc\n",
      "Found 5588 events.\n",
      "elapsed time to build /home1/scratch/agrouaze/training_quach_redo_model/S1A_ALT_coloc201807S_processed.nc: 6.079 seconds\n",
      "file_dest /home1/scratch/agrouaze/training_quach_redo_model/S1A_ALT_coloc201711S_processed.nc\n",
      "Found 15039 events.\n",
      "elapsed time to build /home1/scratch/agrouaze/training_quach_redo_model/S1A_ALT_coloc201711S_processed.nc: 15.900 seconds\n",
      "file_dest /home1/scratch/agrouaze/training_quach_redo_model/S1A_ALT_coloc201507S_processed.nc\n",
      "Found 5199 events.\n",
      "elapsed time to build /home1/scratch/agrouaze/training_quach_redo_model/S1A_ALT_coloc201507S_processed.nc: 6.673 seconds\n",
      "file_dest /home1/scratch/agrouaze/training_quach_redo_model/S1A_ALT_coloc201508S_processed.nc\n",
      "Found 9611 events.\n",
      "elapsed time to build /home1/scratch/agrouaze/training_quach_redo_model/S1A_ALT_coloc201508S_processed.nc: 10.098 seconds\n",
      "file_dest /home1/scratch/agrouaze/training_quach_redo_model/S1A_ALT_coloc201708S_processed.nc\n",
      "Found 15389 events.\n",
      "elapsed time to build /home1/scratch/agrouaze/training_quach_redo_model/S1A_ALT_coloc201708S_processed.nc: 16.713 seconds\n",
      "file_dest /home1/scratch/agrouaze/training_quach_redo_model/S1A_ALT_coloc201701S_processed.nc\n",
      "Found 15129 events.\n",
      "elapsed time to build /home1/scratch/agrouaze/training_quach_redo_model/S1A_ALT_coloc201701S_processed.nc: 16.256 seconds\n",
      "file_dest /home1/scratch/agrouaze/training_quach_redo_model/S1A_ALT_coloc201505S_processed.nc\n",
      "Found 2419 events.\n",
      "elapsed time to build /home1/scratch/agrouaze/training_quach_redo_model/S1A_ALT_coloc201505S_processed.nc: 2.978 seconds\n",
      "file_dest /home1/scratch/agrouaze/training_quach_redo_model/S1A_ALT_coloc201510S_processed.nc\n",
      "Found 8096 events.\n",
      "elapsed time to build /home1/scratch/agrouaze/training_quach_redo_model/S1A_ALT_coloc201510S_processed.nc: 8.783 seconds\n",
      "file_dest /home1/scratch/agrouaze/training_quach_redo_model/S1A_ALT_coloc201806S_processed.nc\n",
      "Found 6642 events.\n",
      "elapsed time to build /home1/scratch/agrouaze/training_quach_redo_model/S1A_ALT_coloc201806S_processed.nc: 7.153 seconds\n",
      "file_dest /home1/scratch/agrouaze/training_quach_redo_model/S1A_ALT_coloc201710S_processed.nc\n",
      "Found 11680 events.\n",
      "elapsed time to build /home1/scratch/agrouaze/training_quach_redo_model/S1A_ALT_coloc201710S_processed.nc: 12.391 seconds\n",
      "file_dest /home1/scratch/agrouaze/training_quach_redo_model/S1A_ALT_coloc201703S_processed.nc\n",
      "Found 13246 events.\n",
      "elapsed time to build /home1/scratch/agrouaze/training_quach_redo_model/S1A_ALT_coloc201703S_processed.nc: 14.234 seconds\n",
      "file_dest /home1/scratch/agrouaze/training_quach_redo_model/S1A_ALT_coloc201709S_processed.nc\n",
      "Found 13051 events.\n",
      "elapsed time to build /home1/scratch/agrouaze/training_quach_redo_model/S1A_ALT_coloc201709S_processed.nc: 14.061 seconds\n",
      "file_dest /home1/scratch/agrouaze/training_quach_redo_model/S1A_ALT_coloc201801S_processed.nc\n",
      "Found 13245 events.\n",
      "elapsed time to build /home1/scratch/agrouaze/training_quach_redo_model/S1A_ALT_coloc201801S_processed.nc: 13.908 seconds\n",
      "file_dest /home1/scratch/agrouaze/training_quach_redo_model/S1A_ALT_coloc201504S_processed.nc\n",
      "Found 986 events.\n",
      "elapsed time to build /home1/scratch/agrouaze/training_quach_redo_model/S1A_ALT_coloc201504S_processed.nc: 1.367 seconds\n",
      "file_dest /home1/scratch/agrouaze/training_quach_redo_model/S1A_ALT_coloc201512S_processed.nc\n",
      "Found 12287 events.\n",
      "elapsed time to build /home1/scratch/agrouaze/training_quach_redo_model/S1A_ALT_coloc201512S_processed.nc: 12.949 seconds\n",
      "file_dest /home1/scratch/agrouaze/training_quach_redo_model/S1A_ALT_coloc201805S_processed.nc\n",
      "Found 15738 events.\n",
      "elapsed time to build /home1/scratch/agrouaze/training_quach_redo_model/S1A_ALT_coloc201805S_processed.nc: 16.605 seconds\n",
      "file_dest /home1/scratch/agrouaze/training_quach_redo_model/S1A_ALT_coloc201702S_processed.nc\n",
      "Found 13643 events.\n",
      "elapsed time to build /home1/scratch/agrouaze/training_quach_redo_model/S1A_ALT_coloc201702S_processed.nc: 14.824 seconds\n",
      "file_dest /home1/scratch/agrouaze/training_quach_redo_model/S1A_ALT_coloc201501S_processed.nc\n",
      "Found 305 events.\n",
      "elapsed time to build /home1/scratch/agrouaze/training_quach_redo_model/S1A_ALT_coloc201501S_processed.nc: 0.721 seconds\n",
      "file_dest /home1/scratch/agrouaze/training_quach_redo_model/S1A_ALT_coloc201606S_processed.nc\n",
      "Found 9255 events.\n",
      "elapsed time to build /home1/scratch/agrouaze/training_quach_redo_model/S1A_ALT_coloc201606S_processed.nc: 10.184 seconds\n",
      "file_dest /home1/scratch/agrouaze/training_quach_redo_model/S1A_ALT_coloc201604S_processed.nc\n",
      "Found 18439 events.\n",
      "elapsed time to build /home1/scratch/agrouaze/training_quach_redo_model/S1A_ALT_coloc201604S_processed.nc: 19.229 seconds\n",
      "file_dest /home1/scratch/agrouaze/training_quach_redo_model/S1A_ALT_coloc201802S_processed.nc\n",
      "Found 12506 events.\n",
      "elapsed time to build /home1/scratch/agrouaze/training_quach_redo_model/S1A_ALT_coloc201802S_processed.nc: 13.684 seconds\n",
      "file_dest /home1/scratch/agrouaze/training_quach_redo_model/S1A_ALT_coloc201712S_processed.nc\n",
      "Found 11928 events.\n",
      "elapsed time to build /home1/scratch/agrouaze/training_quach_redo_model/S1A_ALT_coloc201712S_processed.nc: 12.601 seconds\n",
      "file_dest /home1/scratch/agrouaze/training_quach_redo_model/S1A_ALT_coloc201603S_processed.nc\n",
      "Found 11326 events.\n",
      "elapsed time to build /home1/scratch/agrouaze/training_quach_redo_model/S1A_ALT_coloc201603S_processed.nc: 12.093 seconds\n",
      "file_dest /home1/scratch/agrouaze/training_quach_redo_model/S1A_ALT_coloc201609S_processed.nc\n",
      "Found 11851 events.\n",
      "elapsed time to build /home1/scratch/agrouaze/training_quach_redo_model/S1A_ALT_coloc201609S_processed.nc: 12.650 seconds\n",
      "file_dest /home1/scratch/agrouaze/training_quach_redo_model/S1A_ALT_coloc201803S_processed.nc\n",
      "Found 20915 events.\n",
      "elapsed time to build /home1/scratch/agrouaze/training_quach_redo_model/S1A_ALT_coloc201803S_processed.nc: 22.263 seconds\n",
      "file_dest /home1/scratch/agrouaze/training_quach_redo_model/S1A_ALT_coloc201511S_processed.nc\n",
      "Found 7743 events.\n",
      "elapsed time to build /home1/scratch/agrouaze/training_quach_redo_model/S1A_ALT_coloc201511S_processed.nc: 8.222 seconds\n",
      "nb input files to train for S1B : 23\n",
      "file_dest /home1/scratch/agrouaze/training_quach_redo_model/S1B_ALT_coloc201807S_processed.nc\n",
      "Found 6620 events.\n",
      "elapsed time to build /home1/scratch/agrouaze/training_quach_redo_model/S1B_ALT_coloc201807S_processed.nc: 7.107 seconds\n",
      "file_dest /home1/scratch/agrouaze/training_quach_redo_model/S1B_ALT_coloc201708S_processed.nc\n",
      "Found 16292 events.\n",
      "elapsed time to build /home1/scratch/agrouaze/training_quach_redo_model/S1B_ALT_coloc201708S_processed.nc: 17.605 seconds\n",
      "file_dest /home1/scratch/agrouaze/training_quach_redo_model/S1B_ALT_coloc201612S_processed.nc\n",
      "Found 20109 events.\n",
      "elapsed time to build /home1/scratch/agrouaze/training_quach_redo_model/S1B_ALT_coloc201612S_processed.nc: 21.736 seconds\n",
      "file_dest /home1/scratch/agrouaze/training_quach_redo_model/S1B_ALT_coloc201804S_processed.nc\n",
      "Found 15082 events.\n",
      "elapsed time to build /home1/scratch/agrouaze/training_quach_redo_model/S1B_ALT_coloc201804S_processed.nc: 16.226 seconds\n",
      "file_dest /home1/scratch/agrouaze/training_quach_redo_model/S1B_ALT_coloc201609S_processed.nc\n",
      "Found 12244 events.\n",
      "elapsed time to build /home1/scratch/agrouaze/training_quach_redo_model/S1B_ALT_coloc201609S_processed.nc: 13.184 seconds\n",
      "file_dest /home1/scratch/agrouaze/training_quach_redo_model/S1B_ALT_coloc201801S_processed.nc\n",
      "Found 14340 events.\n",
      "elapsed time to build /home1/scratch/agrouaze/training_quach_redo_model/S1B_ALT_coloc201801S_processed.nc: 15.121 seconds\n",
      "file_dest /home1/scratch/agrouaze/training_quach_redo_model/S1B_ALT_coloc201703S_processed.nc\n",
      "Found 6951 events.\n",
      "elapsed time to build /home1/scratch/agrouaze/training_quach_redo_model/S1B_ALT_coloc201703S_processed.nc: 7.590 seconds\n",
      "file_dest /home1/scratch/agrouaze/training_quach_redo_model/S1B_ALT_coloc201606S_processed.nc\n",
      "Found 766 events.\n",
      "elapsed time to build /home1/scratch/agrouaze/training_quach_redo_model/S1B_ALT_coloc201606S_processed.nc: 1.099 seconds\n",
      "file_dest /home1/scratch/agrouaze/training_quach_redo_model/S1B_ALT_coloc201802S_processed.nc\n",
      "Found 13810 events.\n",
      "elapsed time to build /home1/scratch/agrouaze/training_quach_redo_model/S1B_ALT_coloc201802S_processed.nc: 17.175 seconds\n",
      "file_dest /home1/scratch/agrouaze/training_quach_redo_model/S1B_ALT_coloc201803S_processed.nc\n",
      "Found 22791 events.\n",
      "elapsed time to build /home1/scratch/agrouaze/training_quach_redo_model/S1B_ALT_coloc201803S_processed.nc: 24.286 seconds\n",
      "file_dest /home1/scratch/agrouaze/training_quach_redo_model/S1B_ALT_coloc201709S_processed.nc\n",
      "Found 14432 events.\n",
      "elapsed time to build /home1/scratch/agrouaze/training_quach_redo_model/S1B_ALT_coloc201709S_processed.nc: 15.443 seconds\n",
      "file_dest /home1/scratch/agrouaze/training_quach_redo_model/S1B_ALT_coloc201710S_processed.nc\n",
      "Found 11733 events.\n",
      "elapsed time to build /home1/scratch/agrouaze/training_quach_redo_model/S1B_ALT_coloc201710S_processed.nc: 12.553 seconds\n",
      "file_dest /home1/scratch/agrouaze/training_quach_redo_model/S1B_ALT_coloc201712S_processed.nc\n",
      "Found 12467 events.\n",
      "elapsed time to build /home1/scratch/agrouaze/training_quach_redo_model/S1B_ALT_coloc201712S_processed.nc: 14.518 seconds\n",
      "file_dest /home1/scratch/agrouaze/training_quach_redo_model/S1B_ALT_coloc201702S_processed.nc\n",
      "Found 14995 events.\n",
      "elapsed time to build /home1/scratch/agrouaze/training_quach_redo_model/S1B_ALT_coloc201702S_processed.nc: 16.158 seconds\n",
      "file_dest /home1/scratch/agrouaze/training_quach_redo_model/S1B_ALT_coloc201711S_processed.nc\n",
      "Found 15569 events.\n",
      "elapsed time to build /home1/scratch/agrouaze/training_quach_redo_model/S1B_ALT_coloc201711S_processed.nc: 16.659 seconds\n",
      "file_dest /home1/scratch/agrouaze/training_quach_redo_model/S1B_ALT_coloc201806S_processed.nc\n",
      "Found 7215 events.\n",
      "elapsed time to build /home1/scratch/agrouaze/training_quach_redo_model/S1B_ALT_coloc201806S_processed.nc: 7.836 seconds\n",
      "file_dest /home1/scratch/agrouaze/training_quach_redo_model/S1B_ALT_coloc201701S_processed.nc\n",
      "Found 16825 events.\n",
      "elapsed time to build /home1/scratch/agrouaze/training_quach_redo_model/S1B_ALT_coloc201701S_processed.nc: 17.857 seconds\n",
      "file_dest /home1/scratch/agrouaze/training_quach_redo_model/S1B_ALT_coloc201611S_processed.nc\n",
      "Found 17217 events.\n",
      "elapsed time to build /home1/scratch/agrouaze/training_quach_redo_model/S1B_ALT_coloc201611S_processed.nc: 18.535 seconds\n",
      "file_dest /home1/scratch/agrouaze/training_quach_redo_model/S1B_ALT_coloc201805S_processed.nc\n",
      "Found 17008 events.\n",
      "elapsed time to build /home1/scratch/agrouaze/training_quach_redo_model/S1B_ALT_coloc201805S_processed.nc: 18.209 seconds\n",
      "file_dest /home1/scratch/agrouaze/training_quach_redo_model/S1B_ALT_coloc201707S_processed.nc\n",
      "Found 18878 events.\n",
      "elapsed time to build /home1/scratch/agrouaze/training_quach_redo_model/S1B_ALT_coloc201707S_processed.nc: 20.178 seconds\n",
      "file_dest /home1/scratch/agrouaze/training_quach_redo_model/S1B_ALT_coloc201607S_processed.nc\n",
      "Found 9014 events.\n",
      "elapsed time to build /home1/scratch/agrouaze/training_quach_redo_model/S1B_ALT_coloc201607S_processed.nc: 9.663 seconds\n",
      "file_dest /home1/scratch/agrouaze/training_quach_redo_model/S1B_ALT_coloc201608S_processed.nc\n",
      "Found 15245 events.\n",
      "elapsed time to build /home1/scratch/agrouaze/training_quach_redo_model/S1B_ALT_coloc201608S_processed.nc: 16.649 seconds\n",
      "file_dest /home1/scratch/agrouaze/training_quach_redo_model/S1B_ALT_coloc201610S_processed.nc\n",
      "Found 16765 events.\n",
      "elapsed time to build /home1/scratch/agrouaze/training_quach_redo_model/S1B_ALT_coloc201610S_processed.nc: 17.998 seconds\n"
     ]
    }
   ],
   "source": [
    "# Reads NetCDF4 file, preprocesses data, and writes hdf5 file.\n",
    "# This is much simpler than aggregating multiple files, then\n",
    "# performing preprocessing.\n",
    "# Author: Peter Sadowski, Dec 2020\n",
    "import os, sys, h5py\n",
    "import numpy as np\n",
    "import glob\n",
    "from netCDF4 import Dataset\n",
    "import time\n",
    "import traceback\n",
    "from sarhspredictor.lib.sarhs import preprocess\n",
    "\n",
    "# Source and destination filenames.\n",
    "#file_src  = \"/mnt/lts/nfs_fs02/sadow_lab/preserve/stopa/sar_hs/data/S1B_201905_test01S/S1B_201905_test01S.nc\"  # Example file containing single observation.\n",
    "#file_dest = \"/mnt/lts/nfs_fs02/sadow_lab/preserve/stopa/sar_hs/data/S1B_201905_test01S/S1B_201905_test01S_processed.h5\"\n",
    "#file_src = '/home/datawork-cersat-public/cache/project/mpc-sentinel1/analysis/s1_data_analysis/hs_nn/quach2020/validation/input_output/final2/S1B_20190501_ifr_tmp_input_output_quach2020_pythonv2.nc'\n",
    "file_src = '/home1/datawork/agrouaze/data/sentinel1/cwave/training_dataset_quach2020_python_v2/S1A_ALT_coloc201501S.nc'\n",
    "out_dd = '/home1/scratch/agrouaze/training_quach_redo_model/'\n",
    "for sat in ['S1A','S1B']:\n",
    "    lst_training_files = glob.glob(os.path.join('/home1/datawork/agrouaze/data/sentinel1/cwave/training_dataset_quach2020_python_v2/',sat+'*.nc'))\n",
    "    if sat=='S1A':\n",
    "        satellite = 1 # 1=S1A, 0=S1B\n",
    "    else:\n",
    "        satellite = 0\n",
    "    print('nb input files to train for %s : %s'%(sat,len(lst_training_files)))\n",
    "    for ffii,file_src in enumerate(lst_training_files):\n",
    "        file_dest = os.path.join(out_dd,os.path.basename(file_src).replace('.nc','_processed.nc'))\n",
    "        print('file_dest',file_dest,ffii,'/',len(lst_training_files))\n",
    "        if os.path.exists(os.path.dirname(file_dest)) is False:\n",
    "            os.makedirs(os.path.dirname(file_dest))\n",
    "            print('outputdir mkdir')\n",
    "        # These variables are expected in the source file.\n",
    "        keys = ['timeSAR', 'lonSAR',  'latSAR', 'incidenceAngle', 'cspcRe', 'cspcIm','py_S','sigma0','normalizedVariance'] # Needed for predictions.\n",
    "        t0 = time.time()\n",
    "        try:\n",
    "            h5py.File(file_dest, 'r').close() #try to close the file if it is opened before\n",
    "        except:\n",
    "            print('traceback',traceback.format_exc())\n",
    "            pass\n",
    "            \n",
    "        with Dataset(file_src) as fs, h5py.File(file_dest, 'w') as fd:\n",
    "            # Check input file.\n",
    "            src = fs.variables\n",
    "            for k in keys:\n",
    "                if k not in src.keys():\n",
    "                    raise IOError(f'Variable {k} not found in input file.')\n",
    "            num_examples = src[keys[0]].shape[0]\n",
    "            print(f'Found {num_examples} events.')\n",
    "\n",
    "            # Get 22 CWAVE features. Concatenate 20 parameters with sigma0 and normVar.\n",
    "            #src['S'].set_auto_scale(False) # Some of the NetCDF4 files had some weird scaling.\n",
    "            S = np.array(src['py_S'][:]) #* float(src['py_S'].scale_factor))\n",
    "            cwave = np.hstack([S, src['sigma0'][:].reshape(-1,1), src['normalizedVariance'][:].reshape(-1,1)])\n",
    "            #cwave = src['cwave'][:]\n",
    "            cwave = preprocess.conv_cwave(cwave) # Remove extrema, then standardize with hardcoded mean, vars.\n",
    "            fd.create_dataset('cwave', data=cwave)\n",
    "\n",
    "            # Observation meta data.\n",
    "            latSAR, lonSAR = src['latSAR'][:], src['lonSAR'][:]\n",
    "            latSARcossin = preprocess.conv_position(latSAR) # Computes cos and sin used by NN.\n",
    "            lonSARcossin = preprocess.conv_position(lonSAR)\n",
    "            #latlonSARcossin = src['latlonSARcossin'][:]\n",
    "            fd.create_dataset('latlonSAR', data=np.column_stack([latSAR, lonSAR]))\n",
    "            fd.create_dataset('latlonSARcossin', data=np.hstack([latSARcossin, lonSARcossin]))\n",
    "            #fd.create_dataset('latlonSARcossin', data=latlonSARcossin)\n",
    "\n",
    "            timeSAR = src['timeSAR'][:]\n",
    "            todSAR = preprocess.conv_time(timeSAR)\n",
    "            #todSAR = src['todSAR'][:]\n",
    "            fd.create_dataset('timeSAR', data=timeSAR, shape=(timeSAR.shape[0], 1))\n",
    "            fd.create_dataset('todSAR', data=todSAR, shape=(todSAR.shape[0], 1))\n",
    "\n",
    "            incidence = preprocess.conv_incidence(src['incidenceAngle'][:]) # Separates into 2 var.\n",
    "            fd.create_dataset('incidence', data=incidence)\n",
    "\n",
    "            satellite_indicator = np.ones((src['timeSAR'].shape[0], 1), dtype=float) * satellite\n",
    "            fd.create_dataset('satellite', data=satellite_indicator, shape=(satellite_indicator.shape[0], 1))\n",
    "\n",
    "            # Spectral data.\n",
    "            re = preprocess.conv_real(src['cspcRe'][:])\n",
    "            im = preprocess.conv_imaginary(src['cspcIm'][:])\n",
    "            x = np.stack((re, im), axis=3)\n",
    "            fd.create_dataset('spectrum', data=x)\n",
    "\n",
    "            # Altimeter features.\n",
    "            hsALT = src['hsALT'][:]\n",
    "            fd.create_dataset('hsALT', data=hsALT, shape=(hsALT.shape[0], 1))\n",
    "            dx = preprocess.conv_dx(src['dx'][:])\n",
    "            dt = preprocess.conv_dt(src['dt'][:])\n",
    "            fd.create_dataset('dxdt', data=np.column_stack([dx, dt]))\n",
    "            \n",
    "            timeALT = src['timeALT'][:] #added by agrouaze\n",
    "            fd.create_dataset('timeALT',data=timeALT, shape=(todSAR.shape[0], 1))\n",
    "            \n",
    "            lonALT = src['lonALT'][:] #added by agrouaze\n",
    "            fd.create_dataset('lonALT', data=lonALT)\n",
    "            \n",
    "            latALT = src['latALT'][:] #added by agrouaze\n",
    "            fd.create_dataset('latALT', data=latALT)\n",
    "              \n",
    "            fd.create_dataset('hsSM', data=src['hsSM'][:]) #added by agrouaze\n",
    "            fd.create_dataset('nk', data=src['nk'][:]) #added by agrouaze\n",
    "            fd.create_dataset('dx', data=src['dx'][:]) #added by agrouaze\n",
    "            fd.create_dataset('dt', data=src['dt'][:]) #added by agrouaze\n",
    "            fd.create_dataset('sigma0', data=src['sigma0'][:]) #added by agrouaze\n",
    "            fd.create_dataset('normalizedVariance', data=src['normalizedVariance'][:]) #added by agrouaze\n",
    "            fd.create_dataset('incidenceAngle', data=src['incidenceAngle'][:]) #added by agrouaze\n",
    "            fd.create_dataset('lonSAR', data=src['lonSAR'][:]) #added by agrouaze\n",
    "            fd.create_dataset('latSAR', data=src['latSAR'][:]) #added by agrouaze\n",
    "            fd.create_dataset('cspcRe', data=src['cspcRe'][:]) #added by agrouaze\n",
    "            fd.create_dataset('cspcIm', data=src['cspcIm'][:]) #added by agrouaze\n",
    "            fd.create_dataset('py_S', data=S) #added by agrouaze\n",
    "        print('elapsed time to build %s: %1.3f seconds'%(file_dest,time.time()-t0))"
   ]
  },
  {
   "cell_type": "markdown",
   "metadata": {},
   "source": [
    "# aggregate the monthly processed files"
   ]
  },
  {
   "cell_type": "code",
   "execution_count": 6,
   "metadata": {},
   "outputs": [
    {
     "name": "stdout",
     "output_type": "stream",
     "text": [
      "Found 65 files.\n",
      "/home1/scratch/agrouaze/training_quach_redo_model/S1A_ALT_coloc201501S_processed.nc\n"
     ]
    },
    {
     "name": "stderr",
     "output_type": "stream",
     "text": [
      "  0%|          | 0/65 [00:00<?, ?it/s]"
     ]
    },
    {
     "name": "stdout",
     "output_type": "stream",
     "text": [
      "['S1A', 'ALT', 'coloc201501S', 'processed', 'nc']\n"
     ]
    },
    {
     "name": "stderr",
     "output_type": "stream",
     "text": [
      "  2%|▏         | 1/65 [00:02<02:29,  2.34s/it]"
     ]
    },
    {
     "name": "stdout",
     "output_type": "stream",
     "text": [
      "['S1A', 'ALT', 'coloc201502S', 'processed', 'nc']\n"
     ]
    },
    {
     "name": "stderr",
     "output_type": "stream",
     "text": [
      "  3%|▎         | 2/65 [00:03<02:06,  2.01s/it]"
     ]
    },
    {
     "name": "stdout",
     "output_type": "stream",
     "text": [
      "['S1A', 'ALT', 'coloc201503S', 'processed', 'nc']\n"
     ]
    },
    {
     "name": "stderr",
     "output_type": "stream",
     "text": [
      "  5%|▍         | 3/65 [00:04<01:51,  1.79s/it]"
     ]
    },
    {
     "name": "stdout",
     "output_type": "stream",
     "text": [
      "['S1A', 'ALT', 'coloc201504S', 'processed', 'nc']\n"
     ]
    },
    {
     "name": "stderr",
     "output_type": "stream",
     "text": [
      "  6%|▌         | 4/65 [00:06<01:37,  1.60s/it]"
     ]
    },
    {
     "name": "stdout",
     "output_type": "stream",
     "text": [
      "['S1A', 'ALT', 'coloc201505S', 'processed', 'nc']\n"
     ]
    },
    {
     "name": "stderr",
     "output_type": "stream",
     "text": [
      "  8%|▊         | 5/65 [00:08<01:43,  1.73s/it]"
     ]
    },
    {
     "name": "stdout",
     "output_type": "stream",
     "text": [
      "['S1A', 'ALT', 'coloc201506S', 'processed', 'nc']\n"
     ]
    },
    {
     "name": "stderr",
     "output_type": "stream",
     "text": [
      "  9%|▉         | 6/65 [00:13<02:44,  2.79s/it]"
     ]
    },
    {
     "name": "stdout",
     "output_type": "stream",
     "text": [
      "['S1A', 'ALT', 'coloc201507S', 'processed', 'nc']\n"
     ]
    },
    {
     "name": "stderr",
     "output_type": "stream",
     "text": [
      " 11%|█         | 7/65 [00:17<03:07,  3.24s/it]"
     ]
    },
    {
     "name": "stdout",
     "output_type": "stream",
     "text": [
      "['S1A', 'ALT', 'coloc201508S', 'processed', 'nc']\n"
     ]
    },
    {
     "name": "stderr",
     "output_type": "stream",
     "text": [
      " 12%|█▏        | 8/65 [00:24<04:04,  4.30s/it]"
     ]
    },
    {
     "name": "stdout",
     "output_type": "stream",
     "text": [
      "['S1A', 'ALT', 'coloc201509S', 'processed', 'nc']\n"
     ]
    },
    {
     "name": "stderr",
     "output_type": "stream",
     "text": [
      " 14%|█▍        | 9/65 [00:29<04:21,  4.66s/it]"
     ]
    },
    {
     "name": "stdout",
     "output_type": "stream",
     "text": [
      "['S1A', 'ALT', 'coloc201510S', 'processed', 'nc']\n"
     ]
    },
    {
     "name": "stderr",
     "output_type": "stream",
     "text": [
      " 15%|█▌        | 10/65 [00:37<05:07,  5.60s/it]"
     ]
    },
    {
     "name": "stdout",
     "output_type": "stream",
     "text": [
      "['S1A', 'ALT', 'coloc201511S', 'processed', 'nc']\n"
     ]
    },
    {
     "name": "stderr",
     "output_type": "stream",
     "text": [
      " 17%|█▋        | 11/65 [00:43<04:57,  5.52s/it]"
     ]
    },
    {
     "name": "stdout",
     "output_type": "stream",
     "text": [
      "['S1A', 'ALT', 'coloc201512S', 'processed', 'nc']\n"
     ]
    },
    {
     "name": "stderr",
     "output_type": "stream",
     "text": [
      " 18%|█▊        | 12/65 [00:51<05:36,  6.35s/it]"
     ]
    },
    {
     "name": "stdout",
     "output_type": "stream",
     "text": [
      "['S1A', 'ALT', 'coloc201601S', 'processed', 'nc']\n"
     ]
    },
    {
     "name": "stderr",
     "output_type": "stream",
     "text": [
      " 20%|██        | 13/65 [00:58<05:36,  6.47s/it]"
     ]
    },
    {
     "name": "stdout",
     "output_type": "stream",
     "text": [
      "['S1A', 'ALT', 'coloc201602S', 'processed', 'nc']\n"
     ]
    },
    {
     "name": "stderr",
     "output_type": "stream",
     "text": [
      " 22%|██▏       | 14/65 [01:07<06:13,  7.32s/it]"
     ]
    },
    {
     "name": "stdout",
     "output_type": "stream",
     "text": [
      "['S1A', 'ALT', 'coloc201603S', 'processed', 'nc']\n"
     ]
    },
    {
     "name": "stderr",
     "output_type": "stream",
     "text": [
      " 23%|██▎       | 15/65 [01:15<06:14,  7.48s/it]"
     ]
    },
    {
     "name": "stdout",
     "output_type": "stream",
     "text": [
      "['S1A', 'ALT', 'coloc201604S', 'processed', 'nc']\n"
     ]
    },
    {
     "name": "stderr",
     "output_type": "stream",
     "text": [
      " 25%|██▍       | 16/65 [01:27<07:15,  8.88s/it]"
     ]
    },
    {
     "name": "stdout",
     "output_type": "stream",
     "text": [
      "['S1A', 'ALT', 'coloc201605S', 'processed', 'nc']\n"
     ]
    },
    {
     "name": "stderr",
     "output_type": "stream",
     "text": [
      " 26%|██▌       | 17/65 [01:36<07:07,  8.91s/it]"
     ]
    },
    {
     "name": "stdout",
     "output_type": "stream",
     "text": [
      "['S1A', 'ALT', 'coloc201606S', 'processed', 'nc']\n"
     ]
    },
    {
     "name": "stderr",
     "output_type": "stream",
     "text": [
      " 28%|██▊       | 18/65 [01:42<06:26,  8.21s/it]"
     ]
    },
    {
     "name": "stdout",
     "output_type": "stream",
     "text": [
      "['S1A', 'ALT', 'coloc201607S', 'processed', 'nc']\n"
     ]
    },
    {
     "name": "stderr",
     "output_type": "stream",
     "text": [
      " 29%|██▉       | 19/65 [01:50<06:10,  8.05s/it]"
     ]
    },
    {
     "name": "stdout",
     "output_type": "stream",
     "text": [
      "['S1A', 'ALT', 'coloc201608S', 'processed', 'nc']\n"
     ]
    },
    {
     "name": "stderr",
     "output_type": "stream",
     "text": [
      " 31%|███       | 20/65 [02:01<06:34,  8.77s/it]"
     ]
    },
    {
     "name": "stdout",
     "output_type": "stream",
     "text": [
      "['S1A', 'ALT', 'coloc201609S', 'processed', 'nc']\n"
     ]
    },
    {
     "name": "stderr",
     "output_type": "stream",
     "text": [
      " 32%|███▏      | 21/65 [02:09<06:16,  8.55s/it]"
     ]
    },
    {
     "name": "stdout",
     "output_type": "stream",
     "text": [
      "['S1A', 'ALT', 'coloc201610S', 'processed', 'nc']\n"
     ]
    },
    {
     "name": "stderr",
     "output_type": "stream",
     "text": [
      " 34%|███▍      | 22/65 [02:19<06:34,  9.18s/it]"
     ]
    },
    {
     "name": "stdout",
     "output_type": "stream",
     "text": [
      "['S1A', 'ALT', 'coloc201611S', 'processed', 'nc']\n"
     ]
    },
    {
     "name": "stderr",
     "output_type": "stream",
     "text": [
      " 35%|███▌      | 23/65 [02:30<06:46,  9.69s/it]"
     ]
    },
    {
     "name": "stdout",
     "output_type": "stream",
     "text": [
      "['S1A', 'ALT', 'coloc201612S', 'processed', 'nc']\n"
     ]
    },
    {
     "name": "stderr",
     "output_type": "stream",
     "text": [
      " 37%|███▋      | 24/65 [02:42<07:08, 10.45s/it]"
     ]
    },
    {
     "name": "stdout",
     "output_type": "stream",
     "text": [
      "['S1A', 'ALT', 'coloc201701S', 'processed', 'nc']\n"
     ]
    },
    {
     "name": "stderr",
     "output_type": "stream",
     "text": [
      " 38%|███▊      | 25/65 [02:54<07:08, 10.70s/it]"
     ]
    },
    {
     "name": "stdout",
     "output_type": "stream",
     "text": [
      "['S1A', 'ALT', 'coloc201702S', 'processed', 'nc']\n"
     ]
    },
    {
     "name": "stderr",
     "output_type": "stream",
     "text": [
      " 40%|████      | 26/65 [03:03<06:44, 10.38s/it]"
     ]
    },
    {
     "name": "stdout",
     "output_type": "stream",
     "text": [
      "['S1A', 'ALT', 'coloc201703S', 'processed', 'nc']\n"
     ]
    },
    {
     "name": "stderr",
     "output_type": "stream",
     "text": [
      " 42%|████▏     | 27/65 [03:13<06:23, 10.09s/it]"
     ]
    },
    {
     "name": "stdout",
     "output_type": "stream",
     "text": [
      "['S1A', 'ALT', 'coloc201705S', 'processed', 'nc']\n"
     ]
    },
    {
     "name": "stderr",
     "output_type": "stream",
     "text": [
      " 43%|████▎     | 28/65 [03:13<04:29,  7.28s/it]"
     ]
    },
    {
     "name": "stdout",
     "output_type": "stream",
     "text": [
      "['S1A', 'ALT', 'coloc201706S', 'processed', 'nc']\n"
     ]
    },
    {
     "name": "stderr",
     "output_type": "stream",
     "text": [
      " 45%|████▍     | 29/65 [03:20<04:13,  7.04s/it]"
     ]
    },
    {
     "name": "stdout",
     "output_type": "stream",
     "text": [
      "['S1A', 'ALT', 'coloc201707S', 'processed', 'nc']\n"
     ]
    },
    {
     "name": "stderr",
     "output_type": "stream",
     "text": [
      " 46%|████▌     | 30/65 [03:33<05:05,  8.72s/it]"
     ]
    },
    {
     "name": "stdout",
     "output_type": "stream",
     "text": [
      "['S1A', 'ALT', 'coloc201708S', 'processed', 'nc']\n"
     ]
    },
    {
     "name": "stderr",
     "output_type": "stream",
     "text": [
      " 48%|████▊     | 31/65 [03:43<05:18,  9.36s/it]"
     ]
    },
    {
     "name": "stdout",
     "output_type": "stream",
     "text": [
      "['S1A', 'ALT', 'coloc201709S', 'processed', 'nc']\n"
     ]
    },
    {
     "name": "stderr",
     "output_type": "stream",
     "text": [
      " 49%|████▉     | 32/65 [03:52<05:06,  9.29s/it]"
     ]
    },
    {
     "name": "stdout",
     "output_type": "stream",
     "text": [
      "['S1A', 'ALT', 'coloc201710S', 'processed', 'nc']\n"
     ]
    },
    {
     "name": "stderr",
     "output_type": "stream",
     "text": [
      " 51%|█████     | 33/65 [04:01<04:47,  8.97s/it]"
     ]
    },
    {
     "name": "stdout",
     "output_type": "stream",
     "text": [
      "['S1A', 'ALT', 'coloc201711S', 'processed', 'nc']\n"
     ]
    },
    {
     "name": "stderr",
     "output_type": "stream",
     "text": [
      " 52%|█████▏    | 34/65 [04:11<04:52,  9.43s/it]"
     ]
    },
    {
     "name": "stdout",
     "output_type": "stream",
     "text": [
      "['S1A', 'ALT', 'coloc201712S', 'processed', 'nc']\n"
     ]
    },
    {
     "name": "stderr",
     "output_type": "stream",
     "text": [
      " 54%|█████▍    | 35/65 [04:20<04:33,  9.13s/it]"
     ]
    },
    {
     "name": "stdout",
     "output_type": "stream",
     "text": [
      "['S1A', 'ALT', 'coloc201801S', 'processed', 'nc']\n"
     ]
    },
    {
     "name": "stderr",
     "output_type": "stream",
     "text": [
      " 55%|█████▌    | 36/65 [04:29<04:25,  9.14s/it]"
     ]
    },
    {
     "name": "stdout",
     "output_type": "stream",
     "text": [
      "['S1A', 'ALT', 'coloc201802S', 'processed', 'nc']\n"
     ]
    },
    {
     "name": "stderr",
     "output_type": "stream",
     "text": [
      " 57%|█████▋    | 37/65 [04:38<04:13,  9.05s/it]"
     ]
    },
    {
     "name": "stdout",
     "output_type": "stream",
     "text": [
      "['S1A', 'ALT', 'coloc201803S', 'processed', 'nc']\n"
     ]
    },
    {
     "name": "stderr",
     "output_type": "stream",
     "text": [
      " 58%|█████▊    | 38/65 [04:52<04:49, 10.72s/it]"
     ]
    },
    {
     "name": "stdout",
     "output_type": "stream",
     "text": [
      "['S1A', 'ALT', 'coloc201804S', 'processed', 'nc']\n"
     ]
    },
    {
     "name": "stderr",
     "output_type": "stream",
     "text": [
      " 60%|██████    | 39/65 [05:02<04:29, 10.38s/it]"
     ]
    },
    {
     "name": "stdout",
     "output_type": "stream",
     "text": [
      "['S1A', 'ALT', 'coloc201805S', 'processed', 'nc']\n"
     ]
    },
    {
     "name": "stderr",
     "output_type": "stream",
     "text": [
      " 62%|██████▏   | 40/65 [05:13<04:23, 10.54s/it]"
     ]
    },
    {
     "name": "stdout",
     "output_type": "stream",
     "text": [
      "['S1A', 'ALT', 'coloc201806S', 'processed', 'nc']\n"
     ]
    },
    {
     "name": "stderr",
     "output_type": "stream",
     "text": [
      " 63%|██████▎   | 41/65 [05:18<03:32,  8.87s/it]"
     ]
    },
    {
     "name": "stdout",
     "output_type": "stream",
     "text": [
      "['S1A', 'ALT', 'coloc201807S', 'processed', 'nc']\n"
     ]
    },
    {
     "name": "stderr",
     "output_type": "stream",
     "text": [
      " 65%|██████▍   | 42/65 [05:22<02:50,  7.41s/it]"
     ]
    },
    {
     "name": "stdout",
     "output_type": "stream",
     "text": [
      "['S1B', 'ALT', 'coloc201606S', 'processed', 'nc']\n"
     ]
    },
    {
     "name": "stderr",
     "output_type": "stream",
     "text": [
      " 66%|██████▌   | 43/65 [05:23<01:59,  5.45s/it]"
     ]
    },
    {
     "name": "stdout",
     "output_type": "stream",
     "text": [
      "['S1B', 'ALT', 'coloc201607S', 'processed', 'nc']\n"
     ]
    },
    {
     "name": "stderr",
     "output_type": "stream",
     "text": [
      " 68%|██████▊   | 44/65 [05:29<01:59,  5.68s/it]"
     ]
    },
    {
     "name": "stdout",
     "output_type": "stream",
     "text": [
      "['S1B', 'ALT', 'coloc201608S', 'processed', 'nc']\n"
     ]
    },
    {
     "name": "stderr",
     "output_type": "stream",
     "text": [
      " 69%|██████▉   | 45/65 [05:40<02:25,  7.28s/it]"
     ]
    },
    {
     "name": "stdout",
     "output_type": "stream",
     "text": [
      "['S1B', 'ALT', 'coloc201609S', 'processed', 'nc']\n"
     ]
    },
    {
     "name": "stderr",
     "output_type": "stream",
     "text": [
      " 71%|███████   | 46/65 [05:49<02:27,  7.77s/it]"
     ]
    },
    {
     "name": "stdout",
     "output_type": "stream",
     "text": [
      "['S1B', 'ALT', 'coloc201610S', 'processed', 'nc']\n"
     ]
    },
    {
     "name": "stderr",
     "output_type": "stream",
     "text": [
      " 72%|███████▏  | 47/65 [06:00<02:40,  8.93s/it]"
     ]
    },
    {
     "name": "stdout",
     "output_type": "stream",
     "text": [
      "['S1B', 'ALT', 'coloc201611S', 'processed', 'nc']\n"
     ]
    },
    {
     "name": "stderr",
     "output_type": "stream",
     "text": [
      " 74%|███████▍  | 48/65 [06:12<02:47,  9.84s/it]"
     ]
    },
    {
     "name": "stdout",
     "output_type": "stream",
     "text": [
      "['S1B', 'ALT', 'coloc201612S', 'processed', 'nc']\n"
     ]
    },
    {
     "name": "stderr",
     "output_type": "stream",
     "text": [
      " 75%|███████▌  | 49/65 [06:26<02:54, 10.92s/it]"
     ]
    },
    {
     "name": "stdout",
     "output_type": "stream",
     "text": [
      "['S1B', 'ALT', 'coloc201701S', 'processed', 'nc']\n"
     ]
    },
    {
     "name": "stderr",
     "output_type": "stream",
     "text": [
      " 77%|███████▋  | 50/65 [06:37<02:44, 10.98s/it]"
     ]
    },
    {
     "name": "stdout",
     "output_type": "stream",
     "text": [
      "['S1B', 'ALT', 'coloc201702S', 'processed', 'nc']\n"
     ]
    },
    {
     "name": "stderr",
     "output_type": "stream",
     "text": [
      " 78%|███████▊  | 51/65 [06:47<02:31, 10.79s/it]"
     ]
    },
    {
     "name": "stdout",
     "output_type": "stream",
     "text": [
      "['S1B', 'ALT', 'coloc201703S', 'processed', 'nc']\n"
     ]
    },
    {
     "name": "stderr",
     "output_type": "stream",
     "text": [
      " 80%|████████  | 52/65 [06:53<01:59,  9.18s/it]"
     ]
    },
    {
     "name": "stdout",
     "output_type": "stream",
     "text": [
      "['S1B', 'ALT', 'coloc201707S', 'processed', 'nc']\n"
     ]
    },
    {
     "name": "stderr",
     "output_type": "stream",
     "text": [
      " 82%|████████▏ | 53/65 [07:05<02:02, 10.21s/it]"
     ]
    },
    {
     "name": "stdout",
     "output_type": "stream",
     "text": [
      "['S1B', 'ALT', 'coloc201708S', 'processed', 'nc']\n"
     ]
    },
    {
     "name": "stderr",
     "output_type": "stream",
     "text": [
      " 83%|████████▎ | 54/65 [07:17<01:56, 10.59s/it]"
     ]
    },
    {
     "name": "stdout",
     "output_type": "stream",
     "text": [
      "['S1B', 'ALT', 'coloc201709S', 'processed', 'nc']\n"
     ]
    },
    {
     "name": "stderr",
     "output_type": "stream",
     "text": [
      " 85%|████████▍ | 55/65 [07:26<01:43, 10.31s/it]"
     ]
    },
    {
     "name": "stdout",
     "output_type": "stream",
     "text": [
      "['S1B', 'ALT', 'coloc201710S', 'processed', 'nc']\n"
     ]
    },
    {
     "name": "stderr",
     "output_type": "stream",
     "text": [
      " 86%|████████▌ | 56/65 [07:35<01:27,  9.74s/it]"
     ]
    },
    {
     "name": "stdout",
     "output_type": "stream",
     "text": [
      "['S1B', 'ALT', 'coloc201711S', 'processed', 'nc']\n"
     ]
    },
    {
     "name": "stderr",
     "output_type": "stream",
     "text": [
      " 88%|████████▊ | 57/65 [07:45<01:19,  9.96s/it]"
     ]
    },
    {
     "name": "stdout",
     "output_type": "stream",
     "text": [
      "['S1B', 'ALT', 'coloc201712S', 'processed', 'nc']\n"
     ]
    },
    {
     "name": "stderr",
     "output_type": "stream",
     "text": [
      " 89%|████████▉ | 58/65 [07:54<01:06,  9.54s/it]"
     ]
    },
    {
     "name": "stdout",
     "output_type": "stream",
     "text": [
      "['S1B', 'ALT', 'coloc201801S', 'processed', 'nc']\n"
     ]
    },
    {
     "name": "stderr",
     "output_type": "stream",
     "text": [
      " 91%|█████████ | 59/65 [08:04<00:57,  9.61s/it]"
     ]
    },
    {
     "name": "stdout",
     "output_type": "stream",
     "text": [
      "['S1B', 'ALT', 'coloc201802S', 'processed', 'nc']\n"
     ]
    },
    {
     "name": "stderr",
     "output_type": "stream",
     "text": [
      " 92%|█████████▏| 60/65 [08:13<00:48,  9.65s/it]"
     ]
    },
    {
     "name": "stdout",
     "output_type": "stream",
     "text": [
      "['S1B', 'ALT', 'coloc201803S', 'processed', 'nc']\n"
     ]
    },
    {
     "name": "stderr",
     "output_type": "stream",
     "text": [
      " 94%|█████████▍| 61/65 [08:31<00:47, 11.93s/it]"
     ]
    },
    {
     "name": "stdout",
     "output_type": "stream",
     "text": [
      "['S1B', 'ALT', 'coloc201804S', 'processed', 'nc']\n"
     ]
    },
    {
     "name": "stderr",
     "output_type": "stream",
     "text": [
      " 95%|█████████▌| 62/65 [08:41<00:34, 11.50s/it]"
     ]
    },
    {
     "name": "stdout",
     "output_type": "stream",
     "text": [
      "['S1B', 'ALT', 'coloc201805S', 'processed', 'nc']\n"
     ]
    },
    {
     "name": "stderr",
     "output_type": "stream",
     "text": [
      " 97%|█████████▋| 63/65 [08:52<00:22, 11.41s/it]"
     ]
    },
    {
     "name": "stdout",
     "output_type": "stream",
     "text": [
      "['S1B', 'ALT', 'coloc201806S', 'processed', 'nc']\n"
     ]
    },
    {
     "name": "stderr",
     "output_type": "stream",
     "text": [
      " 98%|█████████▊| 64/65 [08:57<00:09,  9.52s/it]"
     ]
    },
    {
     "name": "stdout",
     "output_type": "stream",
     "text": [
      "['S1B', 'ALT', 'coloc201807S', 'processed', 'nc']\n"
     ]
    },
    {
     "name": "stderr",
     "output_type": "stream",
     "text": [
      "100%|██████████| 65/65 [09:09<00:00,  8.45s/it]\n",
      "INFO:root:done\n"
     ]
    }
   ],
   "source": [
    "from sarhspredictor.bin import aggregate_monthly_training_files\n",
    "import glob\n",
    "import logging\n",
    "from importlib import reload\n",
    "reload(logging)\n",
    "logging.basicConfig(level=logging.INFO)\n",
    "from importlib import reload\n",
    "reload(aggregate_monthly_training_files)\n",
    "files_src = sorted(glob.glob('/home1/scratch/agrouaze/training_quach_redo_model/*_processed.nc'))\n",
    "print(f'Found {len(files_src)} files.')\n",
    "print(files_src[0])\n",
    "# file_dest =  \"/mnt/lts/nfs_fs02/sadow_lab/preserve/stopa/sar_hs/data/alt/aggregated_ALT.h5\"\n",
    "# file_dest =  \"/mnt/tmp/psadow/sar/aggregated_ALT.h5\"\n",
    "# file_dest = \"/mnt/tmp/psadow/sar/aggregated_2019.h5\"\n",
    "# file_dest =  \"/mnt/lts/nfs_fs02/sadow_lab/preserve/stopa/sar_hs/data/alt/aggregated_2019.h5\"\n",
    "file_dest = os.path.join('/home1/scratch/agrouaze/training_quach_redo_model/',\"aggregated.h5\")\n",
    "\n",
    "# keys = ['timeSAR', 'timeALT', 'lonSAR', 'lonALT', 'latSAR', 'latALT', 'hsALT', 'dx', 'dt', 'nk', 'hsSM', 'incidenceAngle', 'sigma0', 'normalizedVariance', 'S']\n",
    "# keys = ['timeSAR', 'lonSAR',  'latSAR', 'incidenceAngle', 'sigma0', 'normalizedVariance', 'S']\n",
    "# keys += ['cspcRe', 'cspcIm']\n",
    "# keys = ['timeSAR', 'lonSAR',  'latSAR', 'incidenceAngle', 'sigma0', 'normalizedVariance', 'py_S', 'cspcRe', 'cspcIm'] #'py_cspcRe', 'py_cspcIm']\n",
    "keys = ['timeSAR','timeALT','lonSAR','lonALT','latSAR','latALT','hsALT','dx','dt','nk','hsSM','incidenceAngle','sigma0',\n",
    "        'normalizedVariance','cspcRe','cspcIm','cwave','todSAR','py_S'] #\n",
    "aggregate_monthly_training_files.aggregate(files_src,file_dest,keys=keys)\n",
    "logging.info('done')"
   ]
  },
  {
   "cell_type": "markdown",
   "metadata": {},
   "source": [
    "# split by groups"
   ]
  },
  {
   "cell_type": "code",
   "execution_count": 5,
   "metadata": {},
   "outputs": [
    {
     "name": "stdout",
     "output_type": "stream",
     "text": [
      "source  /home1/scratch/agrouaze/training_quach_redo_model/aggregated.h5\n",
      "k cspcIm\n",
      "k cspcRe\n",
      "k cwave\n",
      "k dt\n",
      "k dx\n",
      "k hsALT\n",
      "k hsSM\n",
      "k incidenceAngle\n",
      "k latALT\n",
      "k latSAR\n",
      "k lonALT\n",
      "k lonSAR\n",
      "k month\n",
      "k nk\n",
      "k normalizedVariance\n",
      "k py_S\n",
      "k satellite\n",
      "k sigma0\n",
      "k timeALT\n",
      "k timeSAR\n",
      "k todSAR\n",
      "k year\n",
      "start creating the final .h5 file\n",
      "indices 2015 (766426,)\n",
      "indices 2016 (766426,)\n",
      "Found 304379 events from years:  [2015, 2016]\n",
      "timeSAR (766426, 1)\n",
      "Done with [2015, 2016]\n",
      "indices 2017 (766426,)\n",
      "Found 265052 events from years:  [2017]\n",
      "timeSAR (766426, 1)\n",
      "Done with [2017]\n",
      "indices 2018 (766426,)\n",
      "Found 185151 events from years:  [2018]\n",
      "timeSAR (766426, 1)\n",
      "Done with [2018]\n",
      "Done\n"
     ]
    }
   ],
   "source": [
    "# the training dataset must be separated into sub groups\n",
    "# long long task (about 30min)\n",
    "import split_aggregated_into_groups\n",
    "from importlib import reload\n",
    "reload(split_aggregated_into_groups)\n",
    "file_src2 = os.path.join('/home1/scratch/agrouaze/training_quach_redo_model/',\"aggregated.h5\")\n",
    "print('source ',file_src2)\n",
    "file_dest2 = '/home1/scratch/agrouaze/training_quach_redo_model/aggregated_grouped_final.h5'\n",
    "if os.path.exists(file_dest2):\n",
    "    os.remove(file_dest2)\n",
    "split_aggregated_into_groups.split_aggregated_ds_v2(file_src2,file_dest2)"
   ]
  },
  {
   "cell_type": "markdown",
   "metadata": {},
   "source": [
    "# training keras"
   ]
  },
  {
   "cell_type": "code",
   "execution_count": null,
   "metadata": {},
   "outputs": [
    {
     "name": "stdout",
     "output_type": "stream",
     "text": [
      "/home1/datahome/agrouaze/sources/sentinel1/hs_total/validation_quach2020/heteroskedastic_2017_agrouaze.h5\n",
      "/home1/scratch/agrouaze/training_quach_redo_model/aggregated_grouped_final.h5\n",
      "Epoch 1/123\n",
      "WARNING:tensorflow:AutoGraph could not transform <function Gaussian_NLL at 0x2aab00be37a0> and will run it as-is.\n",
      "Please report this to the TensorFlow team. When filing the bug, set the verbosity to 10 (on Linux, `export AUTOGRAPH_VERBOSITY=10`) and attach the full output.\n",
      "Cause: module 'gast' has no attribute 'Index'\n",
      "To silence this warning, decorate the function with @tf.autograph.experimental.do_not_convert\n",
      "WARNING: AutoGraph could not transform <function Gaussian_NLL at 0x2aab00be37a0> and will run it as-is.\n",
      "Please report this to the TensorFlow team. When filing the bug, set the verbosity to 10 (on Linux, `export AUTOGRAPH_VERBOSITY=10`) and attach the full output.\n",
      "Cause: module 'gast' has no attribute 'Index'\n",
      "To silence this warning, decorate the function with @tf.autograph.experimental.do_not_convert\n",
      "WARNING:tensorflow:AutoGraph could not transform <function Gaussian_MSE at 0x2aab00c64ef0> and will run it as-is.\n",
      "Please report this to the TensorFlow team. When filing the bug, set the verbosity to 10 (on Linux, `export AUTOGRAPH_VERBOSITY=10`) and attach the full output.\n",
      "Cause: module 'gast' has no attribute 'Index'\n",
      "To silence this warning, decorate the function with @tf.autograph.experimental.do_not_convert\n",
      "WARNING: AutoGraph could not transform <function Gaussian_MSE at 0x2aab00c64ef0> and will run it as-is.\n",
      "Please report this to the TensorFlow team. When filing the bug, set the verbosity to 10 (on Linux, `export AUTOGRAPH_VERBOSITY=10`) and attach the full output.\n",
      "Cause: module 'gast' has no attribute 'Index'\n",
      "To silence this warning, decorate the function with @tf.autograph.experimental.do_not_convert\n",
      "2128/4449 [=============>................] - ETA: 1:38:24 - loss: 1.4402 - Gaussian_MSE: 1.0588"
     ]
    }
   ],
   "source": [
    "# Train\n",
    "from sarhspredictor.config import model_IFR_replication_quach2020_sadowski_release_5feb2021\n",
    "#file_model = '/home1/scratch/agrouaze/heteroskedastic_2017_agrouaze.h5'\n",
    "file_model = model_IFR_replication_quach2020_sadowski_release_5feb2021 #\n",
    "print(file_model)\n",
    "model = define_model()\n",
    "model.compile(loss=Gaussian_NLL, optimizer=Adam(lr=0.0001), metrics=[Gaussian_MSE])\n",
    "\n",
    "# Dataset\n",
    "batch_size = 128\n",
    "epochs = 123\n",
    "#filename = '../../data/alt/sar_hs.h5'\n",
    "#filename = '/mnt/tmp/psadow/sar/sar_hs.h5'\n",
    "filename = file_dest2\n",
    "print(file_dest2)\n",
    "train = SARGenerator(filename=filename, \n",
    "                     subgroups=['2015_2016', '2017'], \n",
    "                     batch_size=batch_size)\n",
    "valid = SARGenerator(filename=filename, subgroups=['2018'], batch_size=batch_size)\n",
    "# filename = '/mnt/tmp/psadow/sar/sar_hs.h5'\n",
    "# epochs = 25\n",
    "# train = SARGenerator(filename=filename, \n",
    "#                      subgroups=['2015_2016', '2017', '2018'], # Train on all data without early stopping.\n",
    "#                      batch_size=batch_size)\n",
    "\n",
    "# Callbacks\n",
    "# This LR schedule is slower than in the paper.\n",
    "reduce_lr = ReduceLROnPlateau(monitor='val_loss', factor=0.9, patience=1) \n",
    "check = ModelCheckpoint(file_model, monitor='val_loss', verbose=0,\n",
    "                        save_best_only=True, save_weights_only=False,\n",
    "                        mode='auto', save_freq='epoch')\n",
    "stop = EarlyStopping(monitor='val_loss', min_delta=0, patience=10, verbose=0, \n",
    "                     mode='auto', baseline=None, restore_best_weights=False)\n",
    "clbks = [reduce_lr, check, stop]\n",
    "\n",
    "history = model.fit(train,\n",
    "                    epochs=epochs,\n",
    "                    validation_data=valid,\n",
    "                    callbacks=clbks,\n",
    "                    verbose=1)"
   ]
  }
 ],
 "metadata": {
  "kernelspec": {
   "display_name": "pytorchtest",
   "language": "python",
   "name": "pytorchtest"
  },
  "language_info": {
   "codemirror_mode": {
    "name": "ipython",
    "version": 3
   },
   "file_extension": ".py",
   "mimetype": "text/x-python",
   "name": "python",
   "nbconvert_exporter": "python",
   "pygments_lexer": "ipython3",
   "version": "3.7.8"
  },
  "toc-autonumbering": true
 },
 "nbformat": 4,
 "nbformat_minor": 4
}
