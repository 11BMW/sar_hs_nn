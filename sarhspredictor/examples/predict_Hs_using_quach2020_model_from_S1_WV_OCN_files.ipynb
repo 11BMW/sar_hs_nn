{
 "cells": [
  {
   "cell_type": "code",
   "execution_count": 1,
   "metadata": {},
   "outputs": [
    {
     "data": {
      "text/plain": [
       "'\\nThis notebook illustrates how to use sarhspredictor library\\nauthor: A. Grouazel IFREMER\\ncreation: January 2021\\n'"
      ]
     },
     "execution_count": 1,
     "metadata": {},
     "output_type": "execute_result"
    }
   ],
   "source": [
    "\"\"\"\n",
    "This notebook illustrates how to use sarhspredictor library\n",
    "author: A. Grouazel IFREMER\n",
    "creation: January 2021\n",
    "\"\"\""
   ]
  },
  {
   "cell_type": "code",
   "execution_count": 11,
   "metadata": {},
   "outputs": [
    {
     "name": "stderr",
     "output_type": "stream",
     "text": [
      "INFO:root:start demo\n"
     ]
    }
   ],
   "source": [
    "import logging\n",
    "import time\n",
    "import os\n",
    "import sys\n",
    "import xarray\n",
    "from importlib import reload\n",
    "reload(logging)\n",
    "logging.basicConfig(level=logging.INFO)\n",
    "logging.info('start demo')"
   ]
  },
  {
   "cell_type": "markdown",
   "metadata": {},
   "source": [
    "# define input file"
   ]
  },
  {
   "cell_type": "code",
   "execution_count": 13,
   "metadata": {},
   "outputs": [
    {
     "name": "stdout",
     "output_type": "stream",
     "text": [
      "<xarray.Dataset>\n",
      "Dimensions:                   (oswAngularBinSize: 72, oswAzSize: 1, oswKxBinSize: 128, oswKyBinSize: 185, oswLag: 3, oswPartitions: 5, oswRaSize: 1, oswWavenumberBinSize: 60, owiAzSize: 19, owiIncSize: 12, owiPolarisation: 1, owiRaSize: 20, rvlAzSize: 12, rvlRaSize: 10)\n",
      "Coordinates:\n",
      "    oswPartitions             (oswAzSize, oswRaSize, oswAngularBinSize, oswWavenumberBinSize) float32 ...\n",
      "Dimensions without coordinates: oswAngularBinSize, oswAzSize, oswKxBinSize, oswKyBinSize, oswLag, oswRaSize, oswWavenumberBinSize, owiAzSize, owiIncSize, owiPolarisation, owiRaSize, rvlAzSize, rvlRaSize\n",
      "Data variables:\n",
      "    owiLon                    (owiAzSize, owiRaSize) float32 ...\n",
      "    owiLat                    (owiAzSize, owiRaSize) float32 ...\n",
      "    owiIncidenceAngle         (owiAzSize, owiRaSize) float32 ...\n",
      "    owiElevationAngle         (owiAzSize, owiRaSize) float32 ...\n",
      "    owiWindSpeed              (owiAzSize, owiRaSize) float32 ...\n",
      "    owiWindDirection          (owiAzSize, owiRaSize) float32 ...\n",
      "    owiEcmwfWindSpeed         (owiAzSize, owiRaSize) float32 ...\n",
      "    owiEcmwfWindDirection     (owiAzSize, owiRaSize) float32 ...\n",
      "    owiNrcs                   (owiAzSize, owiRaSize, owiPolarisation) float32 ...\n",
      "    owiNesz                   (owiAzSize, owiRaSize, owiPolarisation) float32 ...\n",
      "    owiNrcsNeszCorr           (owiAzSize, owiRaSize, owiPolarisation) float32 ...\n",
      "    owiPolarisationName       (owiPolarisation) float32 ...\n",
      "    owiPBright                (owiAzSize, owiRaSize) float32 ...\n",
      "    owiNrcsCmod               (owiAzSize, owiRaSize) float32 ...\n",
      "    owiCalConstObsi           (owiIncSize) float32 ...\n",
      "    owiCalConstInci           (owiIncSize) float32 ...\n",
      "    owiInversionQuality       (owiAzSize, owiRaSize) float32 ...\n",
      "    owiMask                   (owiAzSize, owiRaSize) int8 ...\n",
      "    owiHeading                (owiAzSize, owiRaSize) float32 ...\n",
      "    owiWindQuality            (owiAzSize, owiRaSize) float32 ...\n",
      "    rvlLon                    (rvlAzSize, rvlRaSize) float32 ...\n",
      "    rvlLat                    (rvlAzSize, rvlRaSize) float32 ...\n",
      "    rvlSlantRangeTime         (rvlAzSize, rvlRaSize) float32 ...\n",
      "    rvlZeroDopplerTime        (rvlAzSize, rvlRaSize) object ...\n",
      "    rvlGroundRngSize          (rvlAzSize, rvlRaSize) float32 ...\n",
      "    rvlAziSize                (rvlAzSize, rvlRaSize) float32 ...\n",
      "    rvlIncidenceAngle         (rvlAzSize, rvlRaSize) float32 ...\n",
      "    rvlHeading                (rvlAzSize, rvlRaSize) float32 ...\n",
      "    rvlDcObs                  (rvlAzSize, rvlRaSize) float32 ...\n",
      "    rvlNrcs                   (rvlAzSize, rvlRaSize) float32 ...\n",
      "    rvlDcObsStd               (rvlAzSize, rvlRaSize) float32 ...\n",
      "    rvlRadVel                 (rvlAzSize, rvlRaSize) float32 ...\n",
      "    rvlRadVelStd              (rvlAzSize, rvlRaSize) float32 ...\n",
      "    rvlDcGeo                  (rvlAzSize, rvlRaSize) float32 ...\n",
      "    rvlDcMiss                 (rvlAzSize, rvlRaSize) float32 ...\n",
      "    rvlSweepAngle             (rvlAzSize, rvlRaSize) float32 ...\n",
      "    rvlYaw                    (rvlAzSize, rvlRaSize) float32 ...\n",
      "    rvlPitch                  (rvlAzSize, rvlRaSize) float32 ...\n",
      "    rvlRoll                   (rvlAzSize, rvlRaSize) float32 ...\n",
      "    rvlSnr                    (rvlAzSize, rvlRaSize) float32 ...\n",
      "    rvlConfDcObs              (rvlAzSize, rvlRaSize) float32 ...\n",
      "    rvlUssX                   (rvlAzSize, rvlRaSize) float32 ...\n",
      "    rvlUssY                   (rvlAzSize, rvlRaSize) float32 ...\n",
      "    rvlLandCoverage           (rvlAzSize, rvlRaSize) float32 ...\n",
      "    rvlLandFlag               (rvlAzSize, rvlRaSize) float32 ...\n",
      "    oswLon                    (oswAzSize, oswRaSize) float32 ...\n",
      "    oswLat                    (oswAzSize, oswRaSize) float32 ...\n",
      "    oswGroundRngSize          (oswAzSize, oswRaSize) float32 ...\n",
      "    oswAziSize                (oswAzSize, oswRaSize) float32 ...\n",
      "    oswIncidenceAngle         (oswAzSize, oswRaSize) float32 ...\n",
      "    oswHeading                (oswAzSize, oswRaSize) float32 ...\n",
      "    oswInten                  (oswAzSize, oswRaSize) float32 ...\n",
      "    oswNv                     (oswAzSize, oswRaSize) float32 ...\n",
      "    oswSkew                   (oswAzSize, oswRaSize) float32 ...\n",
      "    oswKurt                   (oswAzSize, oswRaSize) float32 ...\n",
      "    oswPolSpec                (oswAzSize, oswRaSize, oswAngularBinSize, oswWavenumberBinSize) float32 ...\n",
      "    oswPolSpecNV              (oswAzSize, oswRaSize, oswAngularBinSize, oswWavenumberBinSize) float32 ...\n",
      "    oswQualityCrossSpectraRe  (oswAzSize, oswRaSize, oswAngularBinSize, oswWavenumberBinSize) float32 ...\n",
      "    oswQualityCrossSpectraIm  (oswAzSize, oswRaSize, oswAngularBinSize, oswWavenumberBinSize) float32 ...\n",
      "    oswK                      (oswWavenumberBinSize) float32 ...\n",
      "    oswPhi                    (oswAngularBinSize) float32 ...\n",
      "    oswLookSeparationTime     (oswAzSize, oswRaSize) float32 ...\n",
      "    oswNrcs                   (oswAzSize, oswRaSize) float32 ...\n",
      "    oswWindSeaHs              (oswAzSize, oswRaSize) float32 ...\n",
      "    oswWaveAge                (oswAzSize, oswRaSize) float32 ...\n",
      "    oswNlWidth                (oswAzSize, oswRaSize) float32 ...\n",
      "    oswSnr                    (oswAzSize, oswRaSize) float32 ...\n",
      "    oswAzCutoff               (oswAzSize, oswRaSize) float32 ...\n",
      "    oswRaCutoff               (oswAzSize, oswRaSize) float32 ...\n",
      "    oswSpecRes                (oswAzSize, oswRaSize, oswAngularBinSize) float32 ...\n",
      "    oswHs                     (oswAzSize, oswRaSize, oswPartitions) float32 ...\n",
      "    oswHsNV                   (oswAzSize, oswRaSize, oswPartitions) float32 ...\n",
      "    oswWl                     (oswAzSize, oswRaSize, oswPartitions) float32 ...\n",
      "    oswDirmet                 (oswAzSize, oswRaSize, oswPartitions) float32 ...\n",
      "    oswAmbiFac                (oswAzSize, oswRaSize, oswPartitions) float32 ...\n",
      "    oswIconf                  (oswAzSize, oswRaSize, oswPartitions) float32 ...\n",
      "    oswWindSpeed              (oswAzSize, oswRaSize) float32 ...\n",
      "    oswWindDirection          (oswAzSize, oswRaSize) float32 ...\n",
      "    oswEcmwfWindSpeed         (oswAzSize, oswRaSize) float32 ...\n",
      "    oswEcmwfWindDirection     (oswAzSize, oswRaSize) float32 ...\n",
      "    oswLandCoverage           (oswAzSize, oswRaSize) float32 ...\n",
      "    oswLandFlag               (oswAzSize, oswRaSize) int8 ...\n",
      "    oswDepth                  (oswAzSize, oswRaSize) float32 ...\n",
      "    oswCartSpecRe             (oswAzSize, oswRaSize, oswKyBinSize, oswKxBinSize, oswLag) float32 ...\n",
      "    oswCartSpecIm             (oswAzSize, oswRaSize, oswKyBinSize, oswKxBinSize, oswLag) float32 ...\n",
      "    oswKx                     (oswKxBinSize) float32 ...\n",
      "    oswKy                     (oswKyBinSize) float32 ...\n",
      "    oswJx                     (oswKxBinSize) float32 ...\n",
      "    oswJy                     (oswKyBinSize) float32 ...\n",
      "    oswQualityFlag            (oswAzSize, oswRaSize) float32 ...\n",
      "    oswQualityFlagPartition   (oswAzSize, oswRaSize, oswPartitions) float32 ...\n",
      "    oswTotalHs                (oswAzSize, oswRaSize) float32 ...\n",
      "    oswGroupDir               (oswAzSize, oswRaSize, oswPartitions) float32 ...\n",
      "    oswEllipsLength           (oswAzSize, oswRaSize, oswPartitions) float32 ...\n",
      "    oswEllipsLengthStdDev     (oswAzSize, oswRaSize, oswPartitions) float32 ...\n",
      "    oswEllipsWidth            (oswAzSize, oswRaSize, oswPartitions) float32 ...\n",
      "    oswEllipsWidthStdDev      (oswAzSize, oswRaSize, oswPartitions) float32 ...\n",
      "    owiHs                     (owiAzSize, owiRaSize, oswPartitions) float32 ...\n",
      "    owiWl                     (owiAzSize, owiRaSize, oswPartitions) float32 ...\n",
      "    owiWindSeaHs              (owiAzSize, owiRaSize) float32 ...\n",
      "    owiDirmet                 (owiAzSize, owiRaSize, oswPartitions) float32 ...\n",
      "    owiRadVel                 (owiAzSize, owiRaSize) float32 ...\n",
      "Attributes:\n",
      "    title:                 Sentinel-1 OCN Product\n",
      "    sourceProduct:         S1A_WV_SL2__1_SV_20210201T083223_20210201T084818_0...\n",
      "    missionName:           S1A\n",
      "    missionPhase:          Operational\n",
      "    polarisation:          VV\n",
      "    owiAlgorithmVersion:   s-1 owi V1.0\n",
      "    oswAlgorithmVersion:   s-1 osw V1.1\n",
      "    rvlAlgorithmVersion:   S-1 RVL V1.0\n",
      "    idlVersion:            7.1\n",
      "    gmf:                   CMOD5n\n",
      "    polarisationRatio:     Identity\n",
      "    processingStartTime:   2021-02-01T13:57:06.530014Z\n",
      "    processingCenter:      DPA_\n",
      "    firstMeasurementTime:  2021-02-01T08:33:07.000000Z\n",
      "    lastMeasurementTime:   2021-02-01T08:33:10.000000Z\n",
      "    clmSource:             GSHHS\n",
      "    bathySource:           GEBCO\n",
      "    iceSource:             EUMETSAT OSI SAF\n",
      "    stokesSource:          MODEL WAVEWATCH III (R) GLOBMULTI\n",
      "    windSource:            ECMWF\n",
      "    IPFversion:            003.31\n",
      "    statevectorUtc:        01-FEB-2021 08:33:07.699743\n",
      "    statevectorPos:        [ 3430582.269195 -1589230.284968  5971269.757028]\n",
      "    statevectorVel:        [ 4596.790762 -4636.226436 -3865.975881]\n",
      "    statevectorAcc:        [0. 0. 0.]\n",
      "    prf:                   1650.168040094962\n",
      "    owiNoiseCorrection:    True\n"
     ]
    }
   ],
   "source": [
    "# official Sentinel-1 WV OCN Level-2 netcdf file containing SAR image cross spectra\n",
    "ff = './s1a-wv2-ocn-vv-20210201t083307-20210201t083310-036394-044589-004.nc'\n",
    "ds_input = xarray.open_dataset(ff)\n",
    "print(ds_input)"
   ]
  },
  {
   "cell_type": "markdown",
   "metadata": {},
   "source": [
    "# load a NN model for the Hs prediction"
   ]
  },
  {
   "cell_type": "code",
   "execution_count": 14,
   "metadata": {},
   "outputs": [
    {
     "name": "stdout",
     "output_type": "stream",
     "text": [
      "<tensorflow.python.keras.engine.training.Model object at 0x7f085c7b15d0>\n"
     ]
    }
   ],
   "source": [
    "from sarhspredictor.lib.load_quach_2020_keras_model import load_quach2020_model_v2\n",
    "heteroskedastic_2017 = load_quach2020_model_v2()\n",
    "print(heteroskedastic_2017)"
   ]
  },
  {
   "cell_type": "markdown",
   "metadata": {},
   "source": [
    "# predict Hs and Hs_std"
   ]
  },
  {
   "cell_type": "code",
   "execution_count": 23,
   "metadata": {},
   "outputs": [
    {
     "name": "stderr",
     "output_type": "stream",
     "text": [
      "INFO:root:start reading S1 WV OCN data\n"
     ]
    },
    {
     "name": "stdout",
     "output_type": "stream",
     "text": [
      "env: CUDA_VISIBLE_DEVICES=0\n"
     ]
    },
    {
     "name": "stderr",
     "output_type": "stream",
     "text": [
      "INFO:root:Nb pts in dataset: 1\n",
      "INFO:root:SAR data ready to be used\n",
      "INFO:root:re : (1, 72, 60)\n",
      "INFO:root:im : (1, 72, 60)\n",
      "INFO:root:spectrum shape : (1, 72, 60, 2)\n",
      "INFO:root:features ready\n",
      "INFO:root:test dataset ready\n",
      "INFO:root:start Hs prediction\n",
      "INFO:root:prediction finished\n"
     ]
    },
    {
     "name": "stdout",
     "output_type": "stream",
     "text": [
      "Hs:  [5.7527328] m\n",
      "Hs std:  [0.6450897] m\n"
     ]
    }
   ],
   "source": [
    "import sarhspredictor.lib.sarhs.preprocess\n",
    "reload(sarhspredictor.lib.sarhs.preprocess)\n",
    "import sarhspredictor.lib.predict_with_quach2020_on_OCN_using_keras\n",
    "reload(sarhspredictor.lib.predict_with_quach2020_on_OCN_using_keras)\n",
    "\n",
    "\n",
    "output_datatset = sarhspredictor.lib.predict_with_quach2020_on_OCN_using_keras.main_level_1(ff,heteroskedastic_2017)\n",
    "print('Hs: ',output_datatset['swh'].values,'m')\n",
    "print('Hs std: ',output_datatset['swh_uncertainty'].values,'m')"
   ]
  }
 ],
 "metadata": {
  "kernelspec": {
   "display_name": "cwave",
   "language": "python",
   "name": "cwave"
  },
  "language_info": {
   "codemirror_mode": {
    "name": "ipython",
    "version": 3
   },
   "file_extension": ".py",
   "mimetype": "text/x-python",
   "name": "python",
   "nbconvert_exporter": "python",
   "pygments_lexer": "ipython3",
   "version": "3.7.8"
  }
 },
 "nbformat": 4,
 "nbformat_minor": 4
}
